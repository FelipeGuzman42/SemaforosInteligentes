{
 "cells": [
  {
   "cell_type": "code",
   "execution_count": 1,
   "id": "3d754082",
   "metadata": {},
   "outputs": [],
   "source": [
    "import cv2, os\n",
    "import shutil\n",
    "from typing import List, Tuple\n",
    "from collections import defaultdict\n",
    "import json\n",
    "\n",
    "import h5py\n",
    "import numpy as np\n",
    "from PIL import Image\n",
    "from scipy.ndimage import gaussian_filter"
   ]
  },
  {
   "cell_type": "code",
   "execution_count": 2,
   "id": "830d9161",
   "metadata": {},
   "outputs": [
    {
     "ename": "KeyboardInterrupt",
     "evalue": "",
     "output_type": "error",
     "traceback": [
      "\u001b[1;31m---------------------------------------------------------------------------\u001b[0m",
      "\u001b[1;31mKeyboardInterrupt\u001b[0m                         Traceback (most recent call last)",
      "\u001b[1;32mC:\\Users\\ESTUDI~1\\AppData\\Local\\Temp/ipykernel_4340/2957407730.py\u001b[0m in \u001b[0;36m<module>\u001b[1;34m\u001b[0m\n\u001b[0;32m     13\u001b[0m \u001b[1;32mfor\u001b[0m \u001b[0mi\u001b[0m \u001b[1;32min\u001b[0m \u001b[0mrange\u001b[0m\u001b[1;33m(\u001b[0m\u001b[1;36m0\u001b[0m\u001b[1;33m,\u001b[0m\u001b[1;36m22248\u001b[0m\u001b[1;33m)\u001b[0m\u001b[1;33m:\u001b[0m\u001b[1;33m\u001b[0m\u001b[1;33m\u001b[0m\u001b[0m\n\u001b[0;32m     14\u001b[0m     \u001b[0mname\u001b[0m \u001b[1;33m=\u001b[0m \u001b[1;34m\"escena_\"\u001b[0m \u001b[1;33m+\u001b[0m \u001b[0mstr\u001b[0m\u001b[1;33m(\u001b[0m\u001b[0mi\u001b[0m\u001b[1;33m)\u001b[0m \u001b[1;33m+\u001b[0m \u001b[1;34m'.png'\u001b[0m\u001b[1;33m\u001b[0m\u001b[1;33m\u001b[0m\u001b[0m\n\u001b[1;32m---> 15\u001b[1;33m     \u001b[0mquitarElementosGrises\u001b[0m\u001b[1;33m(\u001b[0m\u001b[1;34m'./Imagenes/'\u001b[0m\u001b[1;33m+\u001b[0m\u001b[0mname\u001b[0m\u001b[1;33m,\u001b[0m\u001b[0mname\u001b[0m\u001b[1;33m)\u001b[0m\u001b[1;33m\u001b[0m\u001b[1;33m\u001b[0m\u001b[0m\n\u001b[0m",
      "\u001b[1;32mC:\\Users\\ESTUDI~1\\AppData\\Local\\Temp/ipykernel_4340/2957407730.py\u001b[0m in \u001b[0;36mquitarElementosGrises\u001b[1;34m(img_path, name)\u001b[0m\n\u001b[0;32m      8\u001b[0m \u001b[1;33m\u001b[0m\u001b[0m\n\u001b[0;32m      9\u001b[0m     \u001b[0mnew_img\u001b[0m \u001b[1;33m=\u001b[0m \u001b[0mimg\u001b[0m\u001b[1;33m.\u001b[0m\u001b[0mcopy\u001b[0m\u001b[1;33m(\u001b[0m\u001b[1;33m)\u001b[0m\u001b[1;33m\u001b[0m\u001b[1;33m\u001b[0m\u001b[0m\n\u001b[1;32m---> 10\u001b[1;33m     \u001b[0mnew_img\u001b[0m\u001b[1;33m[\u001b[0m\u001b[0mnp\u001b[0m\u001b[1;33m.\u001b[0m\u001b[0mwhere\u001b[0m\u001b[1;33m(\u001b[0m\u001b[0mmask\u001b[0m\u001b[1;33m)\u001b[0m\u001b[1;33m]\u001b[0m \u001b[1;33m=\u001b[0m \u001b[1;36m255\u001b[0m\u001b[1;33m\u001b[0m\u001b[1;33m\u001b[0m\u001b[0m\n\u001b[0m\u001b[0;32m     11\u001b[0m     \u001b[0mcv2\u001b[0m\u001b[1;33m.\u001b[0m\u001b[0mimwrite\u001b[0m\u001b[1;33m(\u001b[0m\u001b[0mos\u001b[0m\u001b[1;33m.\u001b[0m\u001b[0mpath\u001b[0m\u001b[1;33m.\u001b[0m\u001b[0mjoin\u001b[0m\u001b[1;33m(\u001b[0m\u001b[1;34m'./Saturacion/'\u001b[0m\u001b[1;33m,\u001b[0m\u001b[0mname\u001b[0m\u001b[1;33m)\u001b[0m\u001b[1;33m,\u001b[0m \u001b[0mnew_img\u001b[0m\u001b[1;33m)\u001b[0m\u001b[1;33m\u001b[0m\u001b[1;33m\u001b[0m\u001b[0m\n\u001b[0;32m     12\u001b[0m \u001b[1;33m\u001b[0m\u001b[0m\n",
      "\u001b[1;32m<__array_function__ internals>\u001b[0m in \u001b[0;36mwhere\u001b[1;34m(*args, **kwargs)\u001b[0m\n",
      "\u001b[1;31mKeyboardInterrupt\u001b[0m: "
     ]
    }
   ],
   "source": [
    "# Quita la carretera y elementos distractores\n",
    "def quitarElementosGrises(img_path, name):\n",
    "    img = cv2.imread(img_path)\n",
    "\n",
    "    hsv = cv2.cvtColor(img, cv2.COLOR_BGR2HSV)\n",
    "\n",
    "    mask = cv2.inRange(hsv, (0,0,0), (255,45,255))\n",
    "\n",
    "    new_img = img.copy()\n",
    "    new_img[np.where(mask)] = 255\n",
    "    cv2.imwrite(os.path.join('./Saturacion/',name), new_img)\n",
    "    \n",
    "for i in range(0,22248):\n",
    "    name = \"escena_\" + str(i) + '.png'\n",
    "    quitarElementosGrises('./Imagenes/'+name,name)"
   ]
  },
  {
   "cell_type": "code",
   "execution_count": 7,
   "id": "aa3d77bc",
   "metadata": {},
   "outputs": [],
   "source": [
    "# Obtiene las coodenadas de los pixeles de la imagen que no son blancos\n",
    "def obtenerCoordenadas(image_path):\n",
    "    image = Image.open(image_path)\n",
    "    width, height = image.size\n",
    "    coordinates = []\n",
    "\n",
    "    for x in range(width):\n",
    "        for y in range(height):\n",
    "            r, g, b = image.getpixel((x, y))\n",
    "            if not (r == 255 and g == 255 and b == 255):\n",
    "                coordinates.append([x, y])\n",
    "    return coordinates"
   ]
  },
  {
   "cell_type": "code",
   "execution_count": 8,
   "id": "687f4b28",
   "metadata": {},
   "outputs": [],
   "source": [
    "# Agrupa los pixeles que esten cercanos según distancia Euclediana\n",
    "def agruparPixeles(points):\n",
    "    center = defaultdict(list)\n",
    "    adj = defaultdict(list)\n",
    "    n = len(points)\n",
    "    for j in range(n):\n",
    "        for i in range(j):\n",
    "            x1, y1 = points[i]\n",
    "            x2, y2 = points[j]\n",
    "            if (x1 - x2) ** 2 + (y1 - y2) ** 2 <= 1 ** 2:\n",
    "                adj[i].append(j)\n",
    "                adj[j].append(i)\n",
    "    seen = set()\n",
    "    def dfs(i):\n",
    "        if i in seen:\n",
    "            return\n",
    "        seen.add(i)\n",
    "        for nb in adj[i]:\n",
    "            dfs(nb)\n",
    "    def groupCenter(group):\n",
    "        centerX = []\n",
    "        centerY = []\n",
    "        for j in adj[i]:\n",
    "            for k in adj[j]:\n",
    "                centerX.append(points[k][0])\n",
    "                centerY.append(points[k][1])\n",
    "        center[ans] = [round((sum(centerX)/len(centerX))), round((sum(centerY)/len(centerY)))]\n",
    "    ans = 0\n",
    "    for i in range(n):\n",
    "        if i not in seen and len(adj[i]) > 1:\n",
    "            ans += 1\n",
    "            groupCenter(adj[i])\n",
    "            dfs(i)\n",
    "    return center"
   ]
  },
  {
   "cell_type": "code",
   "execution_count": 9,
   "id": "7e0e06fd",
   "metadata": {},
   "outputs": [],
   "source": [
    "def pintarCentro(image_path, center, k):\n",
    "    image = Image.open(image_path)\n",
    "    pixel_map = image.load()\n",
    "\n",
    "    for i in center:\n",
    "        pixel_map[center[i][0],center[i][1]] = (234, 0, 156)\n",
    "\n",
    "    image.save(\"./Centro/center_obj_\"+k+\".png\")"
   ]
  },
  {
   "cell_type": "code",
   "execution_count": 11,
   "id": "2550e953",
   "metadata": {},
   "outputs": [
    {
     "name": "stdout",
     "output_type": "stream",
     "text": [
      "Etapa: 0\n",
      "Etapa: 1\n",
      "Etapa: 2\n",
      "Etapa: 3\n",
      "Etapa: 4\n",
      "Etapa: 5\n",
      "Etapa: 6\n",
      "Etapa: 7\n",
      "Etapa: 8\n",
      "Etapa: 9\n"
     ]
    },
    {
     "ename": "KeyboardInterrupt",
     "evalue": "",
     "output_type": "error",
     "traceback": [
      "\u001b[1;31m---------------------------------------------------------------------------\u001b[0m",
      "\u001b[1;31mKeyboardInterrupt\u001b[0m                         Traceback (most recent call last)",
      "\u001b[1;32mC:\\Users\\ESTUDI~1\\AppData\\Local\\Temp/ipykernel_13876/214843887.py\u001b[0m in \u001b[0;36m<module>\u001b[1;34m\u001b[0m\n\u001b[0;32m      2\u001b[0m \u001b[1;32mfor\u001b[0m \u001b[0mi\u001b[0m \u001b[1;32min\u001b[0m \u001b[0mrange\u001b[0m\u001b[1;33m(\u001b[0m\u001b[1;36m0\u001b[0m\u001b[1;33m,\u001b[0m\u001b[1;36m22248\u001b[0m\u001b[1;33m)\u001b[0m\u001b[1;33m:\u001b[0m\u001b[1;33m\u001b[0m\u001b[1;33m\u001b[0m\u001b[0m\n\u001b[0;32m      3\u001b[0m     \u001b[0mname\u001b[0m \u001b[1;33m=\u001b[0m \u001b[1;34m\"escena_\"\u001b[0m \u001b[1;33m+\u001b[0m \u001b[0mstr\u001b[0m\u001b[1;33m(\u001b[0m\u001b[0mi\u001b[0m\u001b[1;33m)\u001b[0m \u001b[1;33m+\u001b[0m \u001b[1;34m'.png'\u001b[0m\u001b[1;33m\u001b[0m\u001b[1;33m\u001b[0m\u001b[0m\n\u001b[1;32m----> 4\u001b[1;33m     \u001b[0mcentros\u001b[0m\u001b[1;33m[\u001b[0m\u001b[0mi\u001b[0m\u001b[1;33m]\u001b[0m \u001b[1;33m=\u001b[0m \u001b[0magruparPixeles\u001b[0m\u001b[1;33m(\u001b[0m\u001b[0mobtenerCoordenadas\u001b[0m\u001b[1;33m(\u001b[0m\u001b[1;34m'./Saturacion/'\u001b[0m\u001b[1;33m+\u001b[0m\u001b[0mname\u001b[0m\u001b[1;33m)\u001b[0m\u001b[1;33m)\u001b[0m\u001b[1;33m\u001b[0m\u001b[1;33m\u001b[0m\u001b[0m\n\u001b[0m\u001b[0;32m      5\u001b[0m     \u001b[0mprint\u001b[0m\u001b[1;33m(\u001b[0m\u001b[1;34m\"Etapa: \"\u001b[0m\u001b[1;33m+\u001b[0m\u001b[0mstr\u001b[0m\u001b[1;33m(\u001b[0m\u001b[0mi\u001b[0m\u001b[1;33m)\u001b[0m\u001b[1;33m)\u001b[0m\u001b[1;33m\u001b[0m\u001b[1;33m\u001b[0m\u001b[0m\n\u001b[0;32m      6\u001b[0m \u001b[1;32mwith\u001b[0m \u001b[0mopen\u001b[0m\u001b[1;33m(\u001b[0m\u001b[1;34m'data2.json'\u001b[0m\u001b[1;33m,\u001b[0m \u001b[1;34m'w'\u001b[0m\u001b[1;33m)\u001b[0m \u001b[1;32mas\u001b[0m \u001b[0mfp\u001b[0m\u001b[1;33m:\u001b[0m\u001b[1;33m\u001b[0m\u001b[1;33m\u001b[0m\u001b[0m\n",
      "\u001b[1;32mC:\\Users\\ESTUDI~1\\AppData\\Local\\Temp/ipykernel_13876/2989491065.py\u001b[0m in \u001b[0;36mobtenerCoordenadas\u001b[1;34m(image_path)\u001b[0m\n\u001b[0;32m      7\u001b[0m     \u001b[1;32mfor\u001b[0m \u001b[0mx\u001b[0m \u001b[1;32min\u001b[0m \u001b[0mrange\u001b[0m\u001b[1;33m(\u001b[0m\u001b[0mwidth\u001b[0m\u001b[1;33m)\u001b[0m\u001b[1;33m:\u001b[0m\u001b[1;33m\u001b[0m\u001b[1;33m\u001b[0m\u001b[0m\n\u001b[0;32m      8\u001b[0m         \u001b[1;32mfor\u001b[0m \u001b[0my\u001b[0m \u001b[1;32min\u001b[0m \u001b[0mrange\u001b[0m\u001b[1;33m(\u001b[0m\u001b[0mheight\u001b[0m\u001b[1;33m)\u001b[0m\u001b[1;33m:\u001b[0m\u001b[1;33m\u001b[0m\u001b[1;33m\u001b[0m\u001b[0m\n\u001b[1;32m----> 9\u001b[1;33m             \u001b[0mr\u001b[0m\u001b[1;33m,\u001b[0m \u001b[0mg\u001b[0m\u001b[1;33m,\u001b[0m \u001b[0mb\u001b[0m \u001b[1;33m=\u001b[0m \u001b[0mimage\u001b[0m\u001b[1;33m.\u001b[0m\u001b[0mgetpixel\u001b[0m\u001b[1;33m(\u001b[0m\u001b[1;33m(\u001b[0m\u001b[0mx\u001b[0m\u001b[1;33m,\u001b[0m \u001b[0my\u001b[0m\u001b[1;33m)\u001b[0m\u001b[1;33m)\u001b[0m\u001b[1;33m\u001b[0m\u001b[1;33m\u001b[0m\u001b[0m\n\u001b[0m\u001b[0;32m     10\u001b[0m             \u001b[1;32mif\u001b[0m \u001b[1;32mnot\u001b[0m \u001b[1;33m(\u001b[0m\u001b[0mr\u001b[0m \u001b[1;33m==\u001b[0m \u001b[1;36m255\u001b[0m \u001b[1;32mand\u001b[0m \u001b[0mg\u001b[0m \u001b[1;33m==\u001b[0m \u001b[1;36m255\u001b[0m \u001b[1;32mand\u001b[0m \u001b[0mb\u001b[0m \u001b[1;33m==\u001b[0m \u001b[1;36m255\u001b[0m\u001b[1;33m)\u001b[0m\u001b[1;33m:\u001b[0m\u001b[1;33m\u001b[0m\u001b[1;33m\u001b[0m\u001b[0m\n\u001b[0;32m     11\u001b[0m                 \u001b[0mcoordinates\u001b[0m\u001b[1;33m.\u001b[0m\u001b[0mappend\u001b[0m\u001b[1;33m(\u001b[0m\u001b[1;33m[\u001b[0m\u001b[0mx\u001b[0m\u001b[1;33m,\u001b[0m \u001b[0my\u001b[0m\u001b[1;33m]\u001b[0m\u001b[1;33m)\u001b[0m\u001b[1;33m\u001b[0m\u001b[1;33m\u001b[0m\u001b[0m\n",
      "\u001b[1;32mE:\\Users\\estudiante\\anaconda3\\lib\\site-packages\\PIL\\Image.py\u001b[0m in \u001b[0;36mgetpixel\u001b[1;34m(self, xy)\u001b[0m\n\u001b[0;32m   1435\u001b[0m         \"\"\"\n\u001b[0;32m   1436\u001b[0m \u001b[1;33m\u001b[0m\u001b[0m\n\u001b[1;32m-> 1437\u001b[1;33m         \u001b[0mself\u001b[0m\u001b[1;33m.\u001b[0m\u001b[0mload\u001b[0m\u001b[1;33m(\u001b[0m\u001b[1;33m)\u001b[0m\u001b[1;33m\u001b[0m\u001b[1;33m\u001b[0m\u001b[0m\n\u001b[0m\u001b[0;32m   1438\u001b[0m         \u001b[1;32mif\u001b[0m \u001b[0mself\u001b[0m\u001b[1;33m.\u001b[0m\u001b[0mpyaccess\u001b[0m\u001b[1;33m:\u001b[0m\u001b[1;33m\u001b[0m\u001b[1;33m\u001b[0m\u001b[0m\n\u001b[0;32m   1439\u001b[0m             \u001b[1;32mreturn\u001b[0m \u001b[0mself\u001b[0m\u001b[1;33m.\u001b[0m\u001b[0mpyaccess\u001b[0m\u001b[1;33m.\u001b[0m\u001b[0mgetpixel\u001b[0m\u001b[1;33m(\u001b[0m\u001b[0mxy\u001b[0m\u001b[1;33m)\u001b[0m\u001b[1;33m\u001b[0m\u001b[1;33m\u001b[0m\u001b[0m\n",
      "\u001b[1;32mE:\\Users\\estudiante\\anaconda3\\lib\\site-packages\\PIL\\ImageFile.py\u001b[0m in \u001b[0;36mload\u001b[1;34m(self)\u001b[0m\n\u001b[0;32m    158\u001b[0m             \u001b[1;32mraise\u001b[0m \u001b[0mOSError\u001b[0m\u001b[1;33m(\u001b[0m\u001b[1;34m\"cannot load this image\"\u001b[0m\u001b[1;33m)\u001b[0m\u001b[1;33m\u001b[0m\u001b[1;33m\u001b[0m\u001b[0m\n\u001b[0;32m    159\u001b[0m \u001b[1;33m\u001b[0m\u001b[0m\n\u001b[1;32m--> 160\u001b[1;33m         \u001b[0mpixel\u001b[0m \u001b[1;33m=\u001b[0m \u001b[0mImage\u001b[0m\u001b[1;33m.\u001b[0m\u001b[0mImage\u001b[0m\u001b[1;33m.\u001b[0m\u001b[0mload\u001b[0m\u001b[1;33m(\u001b[0m\u001b[0mself\u001b[0m\u001b[1;33m)\u001b[0m\u001b[1;33m\u001b[0m\u001b[1;33m\u001b[0m\u001b[0m\n\u001b[0m\u001b[0;32m    161\u001b[0m         \u001b[1;32mif\u001b[0m \u001b[1;32mnot\u001b[0m \u001b[0mself\u001b[0m\u001b[1;33m.\u001b[0m\u001b[0mtile\u001b[0m\u001b[1;33m:\u001b[0m\u001b[1;33m\u001b[0m\u001b[1;33m\u001b[0m\u001b[0m\n\u001b[0;32m    162\u001b[0m             \u001b[1;32mreturn\u001b[0m \u001b[0mpixel\u001b[0m\u001b[1;33m\u001b[0m\u001b[1;33m\u001b[0m\u001b[0m\n",
      "\u001b[1;31mKeyboardInterrupt\u001b[0m: "
     ]
    }
   ],
   "source": [
    "centros = defaultdict(list)\n",
    "for i in range(18342,22248):\n",
    "    name = \"escena_\" + str(i) + '.png'\n",
    "    centros[i] = agruparPixeles(obtenerCoordenadas('./Saturacion/'+name))\n",
    "    print(\"Etapa: \"+str(i))\n",
    "with open('data6.json', 'w') as fp:\n",
    "    json.dump(centros, fp)"
   ]
  },
  {
   "cell_type": "code",
   "execution_count": 12,
   "id": "ff9d8631",
   "metadata": {},
   "outputs": [],
   "source": [
    "with open('data6.json', 'w') as fp:\n",
    "    json.dump(centros, fp)"
   ]
  },
  {
   "cell_type": "code",
   "execution_count": 3,
   "id": "8cf44554",
   "metadata": {},
   "outputs": [],
   "source": [
    "with open('data2.json') as f:\n",
    "    data = f.read()\n",
    "centros = json.loads(data)\n",
    "#print(centros)"
   ]
  },
  {
   "cell_type": "code",
   "execution_count": 2,
   "id": "0997d24d",
   "metadata": {},
   "outputs": [],
   "source": [
    "# Tratamiento de datos\n",
    "# ==============================================================================\n",
    "import pandas as pd\n",
    "import numpy as np\n",
    "import json\n",
    "\n",
    "# Gráficos\n",
    "# ==============================================================================\n",
    "import matplotlib.pyplot as plt\n",
    "from matplotlib import style\n",
    "\n",
    "# Ajuste de distribuciones\n",
    "# ==============================================================================\n",
    "from scipy import stats\n",
    "from sklearn.neighbors import KernelDensity\n",
    "from sklearn.model_selection import GridSearchCV\n",
    "from sklearn.model_selection import LeaveOneOut\n",
    "\n",
    "# Configuración matplotlib\n",
    "# ==============================================================================\n",
    "style.use('ggplot') or plt.style.use('ggplot')"
   ]
  },
  {
   "cell_type": "code",
   "execution_count": 4,
   "id": "fb7bd6fd",
   "metadata": {},
   "outputs": [],
   "source": [
    "data = centros[\"3266\"]\n",
    "fx,fy = [],[]\n",
    "for i in data:\n",
    "    fx.append(data[i][0])\n",
    "    fy.append(data[i][1])"
   ]
  },
  {
   "cell_type": "code",
   "execution_count": 5,
   "id": "a60f3c0f",
   "metadata": {},
   "outputs": [
    {
     "data": {
      "image/png": "[encoded data removed]",
      "text/plain": [
       "<Figure size 396x288 with 1 Axes>"
      ]
     },
     "metadata": {},
     "output_type": "display_data"
    }
   ],
   "source": [
    "# Gráfico\n",
    "# ==============================================================================\n",
    "fig, ax = plt.subplots(nrows=1, ncols=1, figsize=(5.5, 4))\n",
    "ax.scatter(fx, fy, color=\"#3182bd\", alpha=0.5)\n",
    "ax.set_title('Trafico')\n",
    "ax.set_xlabel('X')\n",
    "ax.set_ylabel('Y');"
   ]
  },
  {
   "cell_type": "code",
   "execution_count": 6,
   "id": "7fd68917",
   "metadata": {},
   "outputs": [
    {
     "data": {
      "text/html": [
       "<div>\n",
       "<style scoped>\n",
       "    .dataframe tbody tr th:only-of-type {\n",
       "        vertical-align: middle;\n",
       "    }\n",
       "\n",
       "    .dataframe tbody tr th {\n",
       "        vertical-align: top;\n",
       "    }\n",
       "\n",
       "    .dataframe thead th {\n",
       "        text-align: right;\n",
       "    }\n",
       "</style>\n",
       "<table border=\"1\" class=\"dataframe\">\n",
       "  <thead>\n",
       "    <tr style=\"text-align: right;\">\n",
       "      <th></th>\n",
       "      <th>X</th>\n",
       "      <th>Y</th>\n",
       "    </tr>\n",
       "  </thead>\n",
       "  <tbody>\n",
       "    <tr>\n",
       "      <th>0</th>\n",
       "      <td>263</td>\n",
       "      <td>445</td>\n",
       "    </tr>\n",
       "    <tr>\n",
       "      <th>1</th>\n",
       "      <td>345</td>\n",
       "      <td>434</td>\n",
       "    </tr>\n",
       "    <tr>\n",
       "      <th>2</th>\n",
       "      <td>403</td>\n",
       "      <td>433</td>\n",
       "    </tr>\n",
       "    <tr>\n",
       "      <th>3</th>\n",
       "      <td>433</td>\n",
       "      <td>435</td>\n",
       "    </tr>\n",
       "    <tr>\n",
       "      <th>4</th>\n",
       "      <td>447</td>\n",
       "      <td>377</td>\n",
       "    </tr>\n",
       "    <tr>\n",
       "      <th>...</th>\n",
       "      <td>...</td>\n",
       "      <td>...</td>\n",
       "    </tr>\n",
       "    <tr>\n",
       "      <th>68</th>\n",
       "      <td>1155</td>\n",
       "      <td>423</td>\n",
       "    </tr>\n",
       "    <tr>\n",
       "      <th>69</th>\n",
       "      <td>1173</td>\n",
       "      <td>413</td>\n",
       "    </tr>\n",
       "    <tr>\n",
       "      <th>70</th>\n",
       "      <td>1179</td>\n",
       "      <td>423</td>\n",
       "    </tr>\n",
       "    <tr>\n",
       "      <th>71</th>\n",
       "      <td>1195</td>\n",
       "      <td>413</td>\n",
       "    </tr>\n",
       "    <tr>\n",
       "      <th>72</th>\n",
       "      <td>1203</td>\n",
       "      <td>423</td>\n",
       "    </tr>\n",
       "  </tbody>\n",
       "</table>\n",
       "<p>73 rows × 2 columns</p>\n",
       "</div>"
      ],
      "text/plain": [
       "       X    Y\n",
       "0    263  445\n",
       "1    345  434\n",
       "2    403  433\n",
       "3    433  435\n",
       "4    447  377\n",
       "..   ...  ...\n",
       "68  1155  423\n",
       "69  1173  413\n",
       "70  1179  423\n",
       "71  1195  413\n",
       "72  1203  423\n",
       "\n",
       "[73 rows x 2 columns]"
      ]
     },
     "execution_count": 6,
     "metadata": {},
     "output_type": "execute_result"
    }
   ],
   "source": [
    "data = {'X': fx, 'Y': fy}\n",
    "datos = pd.DataFrame(data)\n",
    "datos"
   ]
  },
  {
   "cell_type": "code",
   "execution_count": 7,
   "id": "8d6fda58",
   "metadata": {},
   "outputs": [
    {
     "name": "stderr",
     "output_type": "stream",
     "text": [
      "E:\\Users\\estudiante\\anaconda3\\lib\\site-packages\\sklearn\\model_selection\\_search.py:922: UserWarning: One or more of the test scores are non-finite: [-4.07718867e+06            -inf -3.48527722e+03            -inf\n",
      " -9.01639561e+02            -inf -4.08445377e+02            -inf\n",
      " -2.34120361e+02            -inf -1.53117868e+02            -inf\n",
      " -1.09069536e+02            -inf -8.25273841e+01            -inf\n",
      " -6.53330915e+01            -inf -5.35783952e+01            -inf]\n",
      "  warnings.warn(\n",
      "E:\\Users\\estudiante\\anaconda3\\lib\\site-packages\\sklearn\\model_selection\\_search.py:929: RuntimeWarning: invalid value encountered in subtract\n",
      "  array_stds = np.sqrt(np.average((array -\n"
     ]
    }
   ],
   "source": [
    "# Validación cruzada para identificar kernel y bandwidth\n",
    "# ==============================================================================\n",
    "\n",
    "param_grid = {'kernel': ['gaussian', 'linear'],\n",
    "              'bandwidth' : np.linspace(0.01, 3, 10)\n",
    "             }\n",
    "\n",
    "grid = GridSearchCV(\n",
    "        estimator  = KernelDensity(),\n",
    "        param_grid = param_grid,\n",
    "        n_jobs     = -1, \n",
    "        cv         = LeaveOneOut(), \n",
    "        verbose    = 0\n",
    "      )\n",
    "\n",
    "# Se asigna el resultado a _ para que no se imprima por pantalla\n",
    "_ = grid.fit(X = datos)"
   ]
  },
  {
   "cell_type": "code",
   "execution_count": 8,
   "id": "9c6ed05d",
   "metadata": {},
   "outputs": [
    {
     "name": "stdout",
     "output_type": "stream",
     "text": [
      "----------------------------------------\n",
      "Mejores hiperparámetros encontrados (cv)\n",
      "----------------------------------------\n",
      "{'bandwidth': 3.0, 'kernel': 'gaussian'} : -53.57839516671299 None\n"
     ]
    }
   ],
   "source": [
    "# Mejores hiperparámetros por validación cruzada\n",
    "# ==============================================================================\n",
    "print(\"----------------------------------------\")\n",
    "print(\"Mejores hiperparámetros encontrados (cv)\")\n",
    "print(\"----------------------------------------\")\n",
    "print(grid.best_params_, \":\", grid.best_score_, grid.scoring)\n",
    "\n",
    "modelo_kde = grid.best_estimator_"
   ]
  },
  {
   "cell_type": "code",
   "execution_count": 9,
   "id": "f978e58c",
   "metadata": {},
   "outputs": [
    {
     "data": {
      "image/png": "[encoded data removed]",
      "text/plain": [
       "<Figure size 504x360 with 1 Axes>"
      ]
     },
     "metadata": {},
     "output_type": "display_data"
    }
   ],
   "source": [
    "# Mapa de densidad de probabilidad\n",
    "# ==============================================================================\n",
    "fig, ax = plt.subplots(nrows=1, ncols=1, figsize=(7, 5))\n",
    "\n",
    "# Grid de valores dentro del rango observado (2 dimensiones)\n",
    "x = np.linspace(min(datos.X)*0.8, max(datos.X)*1.2, 200)\n",
    "y = np.linspace(min(datos.Y)*0.8, max(datos.Y)*1.2, 200)\n",
    "xx, yy = np.meshgrid(x, y)\n",
    "grid = np.column_stack((xx.flatten(), yy.flatten()))\n",
    "\n",
    "# Densidad de probabilidad de cada valor del grid\n",
    "log_densidad_pred = modelo_kde.score_samples(grid)\n",
    "densidad_pred = np.exp(log_densidad_pred)\n",
    "\n",
    "ax.scatter(fx, fy, alpha=0.6)\n",
    "ax.contour(\n",
    "    xx, yy, densidad_pred.reshape(xx.shape),\n",
    "    alpha =0.6\n",
    ")\n",
    "ax.set_title('Función de densidad estimada')\n",
    "ax.set_xlabel('X')\n",
    "ax.set_ylabel('Y');"
   ]
  },
  {
   "cell_type": "code",
   "execution_count": 11,
   "id": "4cffaa32",
   "metadata": {},
   "outputs": [
    {
     "data": {
      "image/png": "[encoded data removed]",
      "text/plain": [
       "<Figure size 504x360 with 1 Axes>"
      ]
     },
     "metadata": {},
     "output_type": "display_data"
    }
   ],
   "source": [
    "fig, ax = plt.subplots(nrows=1, ncols=1, figsize=(7, 5))\n",
    "ax.scatter(grid[:,0], -grid[:,1], alpha=0.6, c=densidad_pred)\n",
    "ax.set_title('Función de densidad estimada')\n",
    "ax.set_xlabel('X')\n",
    "ax.set_ylabel('Y')\n",
    "fig.savefig('E:/Proyecto/Anaconda/trafico/densidad.png')"
   ]
  },
  {
   "cell_type": "code",
   "execution_count": 3,
   "id": "7e7906cc",
   "metadata": {},
   "outputs": [],
   "source": [
    "def generate_label(label_info, image_shape: List[int]):\n",
    "    \"\"\"\n",
    "    Generate a density map based on objects positions.\n",
    "    Args:\n",
    "        label_info: (x, y) objects positions\n",
    "        image_shape: (width, height) of a density map to be generated\n",
    "    Returns:\n",
    "        A density map.\n",
    "    \"\"\"\n",
    "    # create an empty density map\n",
    "    label = np.zeros(image_shape, dtype=np.float32)\n",
    "\n",
    "    # loop over objects positions and marked them with 100 on a label\n",
    "    for i in label_info:\n",
    "        label[round(label_info[i][1])][round(label_info[i][0])] = 100\n",
    "\n",
    "    # apply a convolution with a Gaussian kernel\n",
    "    label = gaussian_filter(label, sigma=(1, 1), order=0)\n",
    "\n",
    "    return label"
   ]
  },
  {
   "cell_type": "code",
   "execution_count": 4,
   "id": "90ff7a7d",
   "metadata": {},
   "outputs": [],
   "source": [
    "def create_hdf5(dataset_name: str,\n",
    "                train_size: int,\n",
    "                valid_size: int,\n",
    "                img_size: Tuple[int, int],\n",
    "                in_channels: int=3):\n",
    "    \"\"\"\n",
    "    Create empty training and validation HDF5 files with placeholders\n",
    "    for images and labels (density maps).\n",
    "    Note:\n",
    "    Datasets are saved in [dataset_name]/train.h5 and [dataset_name]/valid.h5.\n",
    "    Existing files will be overwritten.\n",
    "    Args:\n",
    "        dataset_name: used to create a folder for train.h5 and valid.h5\n",
    "        train_size: no. of training samples\n",
    "        valid_size: no. of validation samples\n",
    "        img_size: (width, height) of a single image / density map\n",
    "        in_channels: no. of channels of an input image\n",
    "    Returns:\n",
    "        A tuple of pointers to training and validation HDF5 files.\n",
    "    \"\"\"\n",
    "    # create output folder if it does not exist\n",
    "    os.makedirs(dataset_name, exist_ok=True)\n",
    "\n",
    "    # create HDF5 files: [dataset_name]/(train | valid).h5\n",
    "    train_h5 = h5py.File(os.path.join(dataset_name, 'train.h5'), 'w')\n",
    "    valid_h5 = h5py.File(os.path.join(dataset_name, 'valid.h5'), 'w')\n",
    "\n",
    "    # add two HDF5 datasets (images and labels) for each HDF5 file\n",
    "    for h5, size in ((train_h5, train_size), (valid_h5, valid_size)):\n",
    "        h5.create_dataset('images', (size, 3,img_size[0], img_size[1], 3))\n",
    "        h5.create_dataset('labels', (size, 1,img_size[0], img_size[1]))\n",
    "\n",
    "    return train_h5, valid_h5"
   ]
  },
  {
   "cell_type": "code",
   "execution_count": 5,
   "id": "bfad80f4",
   "metadata": {},
   "outputs": [],
   "source": [
    "def generate_data():\n",
    "    \"\"\"Generate HDF5 files for mall dataset.\"\"\"\n",
    "    # create training and validation HDF5 files\n",
    "    train_h5, valid_h5 = create_hdf5('trafico',\n",
    "                                     train_size=80,#17793,\n",
    "                                     valid_size=20,#4453,\n",
    "                                     img_size=(720, 1280),\n",
    "                                     in_channels=3)\n",
    "\n",
    "    def fill_h5(h5, inicial, final):\n",
    "        \"\"\"\n",
    "        Save images and labels in given HDF5 file.\n",
    "        Args:\n",
    "            h5: HDF5 file\n",
    "            inicial: id inicial\n",
    "            final: id final\n",
    "        \"\"\"\n",
    "        for i in range(inicial, final):\n",
    "            img_path = \"Imagenes/escena_\" + str(i) + '.png'\n",
    "            # get an image as numpy array\n",
    "            image = Image.open(img_path)\n",
    "            # generate a density map by applying a Gaussian filter\n",
    "            label = generate_label(centros[str(i)], (720,1280))\n",
    "\n",
    "            # save data to HDF5 file\n",
    "            h5['images'][final-inicial-1, 0] = image\n",
    "            h5['labels'][final-inicial-1, 0] = label\n",
    "            if (i == final): break\n",
    "     \n",
    "    fill_h5(train_h5, 0, 80)#17794)\n",
    "    fill_h5(valid_h5, 80, 99)#22247)\n",
    "\n",
    "    # close HDF5 files\n",
    "    train_h5.close()\n",
    "    valid_h5.close()"
   ]
  },
  {
   "cell_type": "code",
   "execution_count": 6,
   "id": "542508a8",
   "metadata": {},
   "outputs": [],
   "source": [
    "generate_data()"
   ]
  }
 ],
 "metadata": {
  "kernelspec": {
   "display_name": "Python 3",
   "language": "python",
   "name": "python3"
  },
  "language_info": {
   "codemirror_mode": {
    "name": "ipython",
    "version": 3
   },
   "file_extension": ".py",
   "mimetype": "text/x-python",
   "name": "python",
   "nbconvert_exporter": "python",
   "pygments_lexer": "ipython3",
   "version": "3.8.11"
  }
 },
 "nbformat": 4,
 "nbformat_minor": 5
}
