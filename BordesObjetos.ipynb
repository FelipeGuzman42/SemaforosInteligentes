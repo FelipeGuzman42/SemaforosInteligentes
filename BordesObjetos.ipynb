{
 "cells": [
  {
   "cell_type": "markdown",
   "id": "49131535",
   "metadata": {},
   "source": [
    "Importar librerias y detectar bordes de las imagenes"
   ]
  },
  {
   "cell_type": "code",
   "execution_count": 4,
   "id": "94d79a9c",
   "metadata": {},
   "outputs": [],
   "source": [
    "import numpy as np\n",
    "import cv2\n",
    "def detect_edges(img,i,fold):\n",
    "    cv2.imwrite('./Edges/edge_'+i+'.jpg', cv2.Canny(img, 512, 415))"
   ]
  },
  {
   "cell_type": "markdown",
   "id": "aa958ee8",
   "metadata": {},
   "source": [
    "Detectar puntos importanes de la imagen con cv2"
   ]
  },
  {
   "cell_type": "code",
   "execution_count": 5,
   "id": "7b4e36f6",
   "metadata": {},
   "outputs": [],
   "source": [
    "def detect_Keypoints(img,i,fold):\n",
    "    gray= cv2.cvtColor(img,cv2.COLOR_BGR2GRAY)\n",
    "    sift = cv2.SIFT_create()\n",
    "    kp = sift.detect(gray,None)\n",
    "    img2=cv2.drawKeypoints(gray,kp,img)\n",
    "    cv2.imwrite('./Keypoints/'+i+'_sift_keypoints.jpg',img2)\n",
    "    img3=cv2.drawKeypoints(gray,kp,img,flags=cv2.DRAW_MATCHES_FLAGS_DRAW_RICH_KEYPOINTS)\n",
    "    cv2.imwrite('./Keypoints2/'+i+'sift_keypoints2.jpg',img3)"
   ]
  },
  {
   "cell_type": "markdown",
   "id": "6b92382d",
   "metadata": {},
   "source": [
    "Recorre todas las imagenes y detecta bordes y puntos importantes"
   ]
  },
  {
   "cell_type": "code",
   "execution_count": 8,
   "id": "02891756",
   "metadata": {},
   "outputs": [],
   "source": [
    "for i in range(0,100):\n",
    "    j = str(i)\n",
    "    img = cv2.imread('./Imagenes/'+j+'.jpg')\n",
    "    detect_edges(img, j,  'Imagenes')\n",
    "    detect_Keypoints(img, j,  'Imagenes')\n",
    "cv2.destroyAllWindows()"
   ]
  },
  {
   "cell_type": "markdown",
   "id": "e11c9d8e",
   "metadata": {},
   "source": [
    "Detectar borde de una sola imagen definida"
   ]
  },
  {
   "cell_type": "code",
   "execution_count": 1,
   "id": "56064a46",
   "metadata": {},
   "outputs": [
    {
     "data": {
      "text/plain": [
       "-1"
      ]
     },
     "execution_count": 1,
     "metadata": {},
     "output_type": "execute_result"
    }
   ],
   "source": [
    "img = cv2.imread('./Imagenes/escena_3266.png')\n",
    "cv2.imwrite('./Pruebas/edge_img.png', cv2.Canny(img, 512, 415))\n",
    "cv2.imshow('edges', cv2.imread('./Pruebas/edge_img.png'))\n",
    "cv2.waitKey()"
   ]
  },
  {
   "cell_type": "markdown",
   "id": "fedc3f4f",
   "metadata": {},
   "source": [
    "Detectar puntos importantes de una sola imagen definida"
   ]
  },
  {
   "cell_type": "code",
   "execution_count": 2,
   "id": "c6fda308",
   "metadata": {},
   "outputs": [],
   "source": [
    "img = cv2.imread('ejemplo.png')\n",
    "gray= cv2.cvtColor(img,cv2.COLOR_BGR2GRAY)\n",
    "sift = cv2.SIFT_create()\n",
    "kp = sift.detect(gray,None)\n",
    "img2=cv2.drawKeypoints(gray,kp,img)\n",
    "cv2.imwrite('sift_keypoints.jpg',img2)\n",
    "img3=cv2.drawKeypoints(gray,kp,img,flags=cv2.DRAW_MATCHES_FLAGS_DRAW_RICH_KEYPOINTS)\n",
    "cv2.imwrite('sift_keypoints2.jpg',img3)\n",
    "sift = cv2.SIFT_create()\n",
    "kp, des = sift.detectAndCompute(gray,None)"
   ]
  }
 ],
 "metadata": {
  "kernelspec": {
   "display_name": "Python 3",
   "language": "python",
   "name": "python3"
  },
  "language_info": {
   "codemirror_mode": {
    "name": "ipython",
    "version": 3
   },
   "file_extension": ".py",
   "mimetype": "text/x-python",
   "name": "python",
   "nbconvert_exporter": "python",
   "pygments_lexer": "ipython3",
   "version": "3.8.11"
  }
 },
 "nbformat": 4,
 "nbformat_minor": 5
}
